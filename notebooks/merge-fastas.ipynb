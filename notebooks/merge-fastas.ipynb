{
 "cells": [
  {
   "cell_type": "code",
   "execution_count": 3,
   "id": "79983c2b-6a3d-4f01-a3dd-772703a04db7",
   "metadata": {},
   "outputs": [
    {
     "data": {
      "text/plain": [
       "\"../data/taxon_10239.genbank/joint.fasta.gz\""
      ]
     },
     "execution_count": 3,
     "metadata": {},
     "output_type": "execute_result"
    }
   ],
   "source": [
    "#parameters\n",
    "ncbi_input_directory = \"../data/taxon_10239.genbank\"\n",
    "output_fasta = \"../data/taxon_10239.genbank/joint.fna\""
   ]
  },
  {
   "cell_type": "code",
   "execution_count": 26,
   "id": "cc24077f-1285-4f0b-98b8-16f74492f2f9",
   "metadata": {},
   "outputs": [],
   "source": [
    "import ProgressMeter"
   ]
  },
  {
   "cell_type": "code",
   "execution_count": 10,
   "id": "8b0f65f9-d227-4ce3-9059-fa29fee1611e",
   "metadata": {},
   "outputs": [],
   "source": [
    "data_directory_contents = readdir(joinpath(ncbi_input_directory, \"ncbi_dataset\", \"data\"), join=true);"
   ]
  },
  {
   "cell_type": "code",
   "execution_count": 28,
   "id": "b5f5cf9f-ba3a-4755-a205-05bc08d297e6",
   "metadata": {},
   "outputs": [
    {
     "name": "stderr",
     "output_type": "stream",
     "text": [
      "\u001b[32mProgress: 100%|█████████████████████████████████████████| Time: 0:04:46\u001b[39m\n"
     ]
    },
    {
     "data": {
      "text/plain": [
       "49716-element Vector{String}:\n",
       " \"../data/taxon_10239.genbank/ncbi_dataset/data/GCA_000320725.1/GCA_000320725.1_APLentillevirus_1.0_genomic.fna\"\n",
       " \"../data/taxon_10239.genbank/ncbi_dataset/data/GCA_000529295.1/GCA_000529295.1_VT-SEOX4_genomic.fna\"\n",
       " \"../data/taxon_10239.genbank/ncbi_dataset/data/GCA_000529585.1/GCA_000529585.1_HT-SEG26_genomic.fna\"\n",
       " \"../data/taxon_10239.genbank/ncbi_dataset/data/GCA_000530085.1/GCA_000530085.1_VT-SEAL1_genomic.fna\"\n",
       " \"../data/taxon_10239.genbank/ncbi_dataset/data/GCA_000530135.1/GCA_000530135.1_VTSEAL2_genomic.fna\"\n",
       " \"../data/taxon_10239.genbank/ncbi_dataset/data/GCA_000530235.2/GCA_000530235.2_HT-SEG25_genomic.fna\"\n",
       " \"../data/taxon_10239.genbank/ncbi_dataset/data/GCA_000530255.2/GCA_000530255.2_HT-SESP2A_genomic.fna\"\n",
       " \"../data/taxon_10239.genbank/ncbi_dataset/data/GCA_000689295.1/GCA_000689295.1_HT-SEG24_genomic.fna\"\n",
       " \"../data/taxon_10239.genbank/ncbi_dataset/data/GCA_000819615.1/GCA_000819615.1_ViralProj14015_genomic.fna\"\n",
       " \"../data/taxon_10239.genbank/ncbi_dataset/data/GCA_000820355.1/GCA_000820355.1_ViralMultiSegProj14361_genomic.fna\"\n",
       " \"../data/taxon_10239.genbank/ncbi_dataset/data/GCA_000820495.2/GCA_000820495.2_ViralMultiSegProj14656_genomic.fna\"\n",
       " \"../data/taxon_10239.genbank/ncbi_dataset/data/GCA_000836805.1/GCA_000836805.1_ViralProj14012_genomic.fna\"\n",
       " \"../data/taxon_10239.genbank/ncbi_dataset/data/GCA_000836825.1/GCA_000836825.1_ViralProj14017_genomic.fna\"\n",
       " ⋮\n",
       " \"../data/taxon_10239.genbank/ncbi_dataset/data/GCA_903234165.1/GCA_903234165.1_UFOv-Jr-28jun17-C552_genomic.fna\"\n",
       " \"../data/taxon_10239.genbank/ncbi_dataset/data/GCA_903234175.1/GCA_903234175.1_UFOv-RH-27jun17-C4138_genomic.fna\"\n",
       " \"../data/taxon_10239.genbank/ncbi_dataset/data/GCA_905067505.1/GCA_905067505.1_Han_River_virome_contig_assemly_genomic.fna\"\n",
       " \"../data/taxon_10239.genbank/ncbi_dataset/data/GCA_905067515.1/GCA_905067515.1_Han_River_virome_contig_assemly_genomic.fna\"\n",
       " \"../data/taxon_10239.genbank/ncbi_dataset/data/GCA_905067585.1/GCA_905067585.1_Han_River_virome_contig_assemly_genomic.fna\"\n",
       " \"../data/taxon_10239.genbank/ncbi_dataset/data/GCA_905067605.1/GCA_905067605.1_Han_River_virome_contig_assemly_genomic.fna\"\n",
       " \"../data/taxon_10239.genbank/ncbi_dataset/data/GCA_923083595.2/GCA_923083595.2_31087_8_165_genomic.fna\"\n",
       " \"../data/taxon_10239.genbank/ncbi_dataset/data/GCA_923083645.2/GCA_923083645.2_31087_8_241_genomic.fna\"\n",
       " \"../data/taxon_10239.genbank/ncbi_dataset/data/GCA_923083655.2/GCA_923083655.2_31087_8_230_genomic.fna\"\n",
       " \"../data/taxon_10239.genbank/ncbi_dataset/data/GCA_923083905.2/GCA_923083905.2_31087_8_238_genomic.fna\"\n",
       " \"../data/taxon_10239.genbank/ncbi_dataset/data/GCA_923084885.2/GCA_923084885.2_31087_8_220_genomic.fna\"\n",
       " \"../data/taxon_10239.genbank/ncbi_dataset/data/GCA_923086165.2/GCA_923086165.2_31087_8_174_genomic.fna\""
      ]
     },
     "execution_count": 28,
     "metadata": {},
     "output_type": "execute_result"
    }
   ],
   "source": [
    "fasta_list = String[]\n",
    "ProgressMeter.@showprogress for item in data_directory_contents\n",
    "    if !isdir(item)\n",
    "        continue\n",
    "    end\n",
    "    for x in readdir(item, join=true)\n",
    "        is_fasta_of_interest = occursin(basename(item), basename(x)) && occursin(r\"_genomic\\.fna$\", x)\n",
    "        if is_fasta_of_interest\n",
    "            push!(fasta_list, x)\n",
    "        end\n",
    "    end\n",
    "end\n",
    "fasta_list"
   ]
  },
  {
   "cell_type": "code",
   "execution_count": 29,
   "id": "9a1585d5-bfe9-4658-af58-e15022c15746",
   "metadata": {},
   "outputs": [
    {
     "name": "stderr",
     "output_type": "stream",
     "text": [
      "\u001b[32mProgress: 100%|█████████████████████████████████████████| Time: 0:07:59\u001b[39m\n"
     ]
    }
   ],
   "source": [
    "open(output_fasta, \"w\") do io\n",
    "    ProgressMeter.@showprogress for fasta in fasta_list\n",
    "        write(io, read(fasta))\n",
    "    end\n",
    "end"
   ]
  }
 ],
 "metadata": {
  "kernelspec": {
   "display_name": "Julia 1.6.3",
   "language": "julia",
   "name": "julia-1.6"
  },
  "language_info": {
   "file_extension": ".jl",
   "mimetype": "application/julia",
   "name": "julia",
   "version": "1.6.3"
  }
 },
 "nbformat": 4,
 "nbformat_minor": 5
}
