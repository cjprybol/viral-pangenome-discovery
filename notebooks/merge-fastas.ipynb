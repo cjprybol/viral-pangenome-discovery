{
 "cells": [
  {
   "cell_type": "code",
   "execution_count": 3,
   "id": "79983c2b-6a3d-4f01-a3dd-772703a04db7",
   "metadata": {},
   "outputs": [
    {
     "data": {
      "text/plain": [
       "\"../data/taxon_10239.genbank/joint.fasta.gz\""
      ]
     },
     "execution_count": 3,
     "metadata": {},
     "output_type": "execute_result"
    }
   ],
   "source": [
    "#parameters\n",
    "ncbi_input_directory = \"../data/taxon_10239.genbank\"\n",
    "output_fasta = \"../data/taxon_10239.genbank/joint.fasta.gz\""
   ]
  },
  {
   "cell_type": "code",
   "execution_count": 4,
   "id": "e4c28408-45d1-49df-bc32-08041c0852d4",
   "metadata": {},
   "outputs": [
    {
     "data": {
      "text/plain": [
       "3-element Vector{String}:\n",
       " \".snakemake_timestamp\"\n",
       " \"README.md\"\n",
       " \"ncbi_dataset\""
      ]
     },
     "execution_count": 4,
     "metadata": {},
     "output_type": "execute_result"
    }
   ],
   "source": [
    "readdir(ncbi_input_directory)"
   ]
  },
  {
   "cell_type": "code",
   "execution_count": 10,
   "id": "8b0f65f9-d227-4ce3-9059-fa29fee1611e",
   "metadata": {},
   "outputs": [],
   "source": [
    "data_directory_contents = readdir(joinpath(ncbi_input_directory, \"ncbi_dataset\", \"data\"), join=true);"
   ]
  },
  {
   "cell_type": "code",
   "execution_count": null,
   "id": "b2df4d53-bfb4-466f-8164-bf38bd4fce93",
   "metadata": {},
   "outputs": [],
   "source": [
    "entity_directories = filter(x -> isdir(x), data_directory_contents)"
   ]
  },
  {
   "cell_type": "code",
   "execution_count": null,
   "id": "b5f5cf9f-ba3a-4755-a205-05bc08d297e6",
   "metadata": {},
   "outputs": [],
   "source": [
    "for item in data_directory_contents[1:1]\n",
    "    @show item\n",
    "end"
   ]
  }
 ],
 "metadata": {
  "kernelspec": {
   "display_name": "Julia 1.6.3",
   "language": "julia",
   "name": "julia-1.6"
  },
  "language_info": {
   "file_extension": ".jl",
   "mimetype": "application/julia",
   "name": "julia",
   "version": "1.6.3"
  }
 },
 "nbformat": 4,
 "nbformat_minor": 5
}
